{
 "cells": [
  {
   "cell_type": "markdown",
   "metadata": {},
   "source": [
    "# Import libraries"
   ]
  },
  {
   "cell_type": "code",
   "execution_count": 293,
   "metadata": {},
   "outputs": [],
   "source": [
    "#importing libraries\n",
    "\n",
    "import numpy as np\n",
    "import pandas as pd\n",
    "import matplotlib.pyplot as plt\n",
    "import seaborn as sns\n",
    "import warnings\n",
    "warnings.filterwarnings(\"ignore\")"
   ]
  },
  {
   "cell_type": "markdown",
   "metadata": {},
   "source": [
    "# Read and Inspect Data"
   ]
  },
  {
   "cell_type": "code",
   "execution_count": 294,
   "metadata": {},
   "outputs": [
    {
     "data": {
      "text/html": [
       "<div>\n",
       "<style scoped>\n",
       "    .dataframe tbody tr th:only-of-type {\n",
       "        vertical-align: middle;\n",
       "    }\n",
       "\n",
       "    .dataframe tbody tr th {\n",
       "        vertical-align: top;\n",
       "    }\n",
       "\n",
       "    .dataframe thead th {\n",
       "        text-align: right;\n",
       "    }\n",
       "</style>\n",
       "<table border=\"1\" class=\"dataframe\">\n",
       "  <thead>\n",
       "    <tr style=\"text-align: right;\">\n",
       "      <th></th>\n",
       "      <th>country</th>\n",
       "      <th>child_mort</th>\n",
       "      <th>exports</th>\n",
       "      <th>health</th>\n",
       "      <th>imports</th>\n",
       "      <th>income</th>\n",
       "      <th>inflation</th>\n",
       "      <th>life_expec</th>\n",
       "      <th>total_fer</th>\n",
       "      <th>gdpp</th>\n",
       "    </tr>\n",
       "  </thead>\n",
       "  <tbody>\n",
       "    <tr>\n",
       "      <th>0</th>\n",
       "      <td>Afghanistan</td>\n",
       "      <td>90.2</td>\n",
       "      <td>10.0</td>\n",
       "      <td>7.58</td>\n",
       "      <td>44.9</td>\n",
       "      <td>1610</td>\n",
       "      <td>9.44</td>\n",
       "      <td>56.2</td>\n",
       "      <td>5.82</td>\n",
       "      <td>553</td>\n",
       "    </tr>\n",
       "    <tr>\n",
       "      <th>1</th>\n",
       "      <td>Albania</td>\n",
       "      <td>16.6</td>\n",
       "      <td>28.0</td>\n",
       "      <td>6.55</td>\n",
       "      <td>48.6</td>\n",
       "      <td>9930</td>\n",
       "      <td>4.49</td>\n",
       "      <td>76.3</td>\n",
       "      <td>1.65</td>\n",
       "      <td>4090</td>\n",
       "    </tr>\n",
       "    <tr>\n",
       "      <th>2</th>\n",
       "      <td>Algeria</td>\n",
       "      <td>27.3</td>\n",
       "      <td>38.4</td>\n",
       "      <td>4.17</td>\n",
       "      <td>31.4</td>\n",
       "      <td>12900</td>\n",
       "      <td>16.10</td>\n",
       "      <td>76.5</td>\n",
       "      <td>2.89</td>\n",
       "      <td>4460</td>\n",
       "    </tr>\n",
       "    <tr>\n",
       "      <th>3</th>\n",
       "      <td>Angola</td>\n",
       "      <td>119.0</td>\n",
       "      <td>62.3</td>\n",
       "      <td>2.85</td>\n",
       "      <td>42.9</td>\n",
       "      <td>5900</td>\n",
       "      <td>22.40</td>\n",
       "      <td>60.1</td>\n",
       "      <td>6.16</td>\n",
       "      <td>3530</td>\n",
       "    </tr>\n",
       "    <tr>\n",
       "      <th>4</th>\n",
       "      <td>Antigua and Barbuda</td>\n",
       "      <td>10.3</td>\n",
       "      <td>45.5</td>\n",
       "      <td>6.03</td>\n",
       "      <td>58.9</td>\n",
       "      <td>19100</td>\n",
       "      <td>1.44</td>\n",
       "      <td>76.8</td>\n",
       "      <td>2.13</td>\n",
       "      <td>12200</td>\n",
       "    </tr>\n",
       "  </tbody>\n",
       "</table>\n",
       "</div>"
      ],
      "text/plain": [
       "               country  child_mort  exports  health  imports  income  \\\n",
       "0          Afghanistan        90.2     10.0    7.58     44.9    1610   \n",
       "1              Albania        16.6     28.0    6.55     48.6    9930   \n",
       "2              Algeria        27.3     38.4    4.17     31.4   12900   \n",
       "3               Angola       119.0     62.3    2.85     42.9    5900   \n",
       "4  Antigua and Barbuda        10.3     45.5    6.03     58.9   19100   \n",
       "\n",
       "   inflation  life_expec  total_fer   gdpp  \n",
       "0       9.44        56.2       5.82    553  \n",
       "1       4.49        76.3       1.65   4090  \n",
       "2      16.10        76.5       2.89   4460  \n",
       "3      22.40        60.1       6.16   3530  \n",
       "4       1.44        76.8       2.13  12200  "
      ]
     },
     "execution_count": 294,
     "metadata": {},
     "output_type": "execute_result"
    }
   ],
   "source": [
    "country=pd.read_csv(\"Country-data.csv\",sep=\",\")\n",
    "country.head()"
   ]
  },
  {
   "cell_type": "code",
   "execution_count": 295,
   "metadata": {},
   "outputs": [
    {
     "data": {
      "text/plain": [
       "(167, 10)"
      ]
     },
     "execution_count": 295,
     "metadata": {},
     "output_type": "execute_result"
    }
   ],
   "source": [
    "country.shape"
   ]
  },
  {
   "cell_type": "code",
   "execution_count": 296,
   "metadata": {},
   "outputs": [
    {
     "name": "stdout",
     "output_type": "stream",
     "text": [
      "<class 'pandas.core.frame.DataFrame'>\n",
      "RangeIndex: 167 entries, 0 to 166\n",
      "Data columns (total 10 columns):\n",
      " #   Column      Non-Null Count  Dtype  \n",
      "---  ------      --------------  -----  \n",
      " 0   country     167 non-null    object \n",
      " 1   child_mort  167 non-null    float64\n",
      " 2   exports     167 non-null    float64\n",
      " 3   health      167 non-null    float64\n",
      " 4   imports     167 non-null    float64\n",
      " 5   income      167 non-null    int64  \n",
      " 6   inflation   167 non-null    float64\n",
      " 7   life_expec  167 non-null    float64\n",
      " 8   total_fer   167 non-null    float64\n",
      " 9   gdpp        167 non-null    int64  \n",
      "dtypes: float64(7), int64(2), object(1)\n",
      "memory usage: 13.2+ KB\n"
     ]
    }
   ],
   "source": [
    "country.info()"
   ]
  },
  {
   "cell_type": "markdown",
   "metadata": {},
   "source": [
    "# Clean the data"
   ]
  },
  {
   "cell_type": "code",
   "execution_count": 297,
   "metadata": {
    "scrolled": true
   },
   "outputs": [
    {
     "data": {
      "text/plain": [
       "country       0\n",
       "child_mort    0\n",
       "exports       0\n",
       "health        0\n",
       "imports       0\n",
       "income        0\n",
       "inflation     0\n",
       "life_expec    0\n",
       "total_fer     0\n",
       "gdpp          0\n",
       "dtype: int64"
      ]
     },
     "execution_count": 297,
     "metadata": {},
     "output_type": "execute_result"
    }
   ],
   "source": [
    "# checking missing values\n",
    "country.isnull().sum()"
   ]
  },
  {
   "cell_type": "markdown",
   "metadata": {},
   "source": [
    "#### Analysis: No null values in the dataset"
   ]
  },
  {
   "cell_type": "code",
   "execution_count": 298,
   "metadata": {},
   "outputs": [
    {
     "data": {
      "text/html": [
       "<div>\n",
       "<style scoped>\n",
       "    .dataframe tbody tr th:only-of-type {\n",
       "        vertical-align: middle;\n",
       "    }\n",
       "\n",
       "    .dataframe tbody tr th {\n",
       "        vertical-align: top;\n",
       "    }\n",
       "\n",
       "    .dataframe thead th {\n",
       "        text-align: right;\n",
       "    }\n",
       "</style>\n",
       "<table border=\"1\" class=\"dataframe\">\n",
       "  <thead>\n",
       "    <tr style=\"text-align: right;\">\n",
       "      <th></th>\n",
       "      <th>country</th>\n",
       "      <th>child_mort</th>\n",
       "      <th>exports</th>\n",
       "      <th>health</th>\n",
       "      <th>imports</th>\n",
       "      <th>income</th>\n",
       "      <th>inflation</th>\n",
       "      <th>life_expec</th>\n",
       "      <th>total_fer</th>\n",
       "      <th>gdpp</th>\n",
       "    </tr>\n",
       "  </thead>\n",
       "  <tbody>\n",
       "    <tr>\n",
       "      <th>0</th>\n",
       "      <td>Afghanistan</td>\n",
       "      <td>90.2</td>\n",
       "      <td>55.30</td>\n",
       "      <td>7.58</td>\n",
       "      <td>44.9</td>\n",
       "      <td>1610</td>\n",
       "      <td>9.44</td>\n",
       "      <td>56.2</td>\n",
       "      <td>5.82</td>\n",
       "      <td>553</td>\n",
       "    </tr>\n",
       "    <tr>\n",
       "      <th>1</th>\n",
       "      <td>Albania</td>\n",
       "      <td>16.6</td>\n",
       "      <td>1145.20</td>\n",
       "      <td>6.55</td>\n",
       "      <td>48.6</td>\n",
       "      <td>9930</td>\n",
       "      <td>4.49</td>\n",
       "      <td>76.3</td>\n",
       "      <td>1.65</td>\n",
       "      <td>4090</td>\n",
       "    </tr>\n",
       "    <tr>\n",
       "      <th>2</th>\n",
       "      <td>Algeria</td>\n",
       "      <td>27.3</td>\n",
       "      <td>1712.64</td>\n",
       "      <td>4.17</td>\n",
       "      <td>31.4</td>\n",
       "      <td>12900</td>\n",
       "      <td>16.10</td>\n",
       "      <td>76.5</td>\n",
       "      <td>2.89</td>\n",
       "      <td>4460</td>\n",
       "    </tr>\n",
       "    <tr>\n",
       "      <th>3</th>\n",
       "      <td>Angola</td>\n",
       "      <td>119.0</td>\n",
       "      <td>2199.19</td>\n",
       "      <td>2.85</td>\n",
       "      <td>42.9</td>\n",
       "      <td>5900</td>\n",
       "      <td>22.40</td>\n",
       "      <td>60.1</td>\n",
       "      <td>6.16</td>\n",
       "      <td>3530</td>\n",
       "    </tr>\n",
       "    <tr>\n",
       "      <th>4</th>\n",
       "      <td>Antigua and Barbuda</td>\n",
       "      <td>10.3</td>\n",
       "      <td>5551.00</td>\n",
       "      <td>6.03</td>\n",
       "      <td>58.9</td>\n",
       "      <td>19100</td>\n",
       "      <td>1.44</td>\n",
       "      <td>76.8</td>\n",
       "      <td>2.13</td>\n",
       "      <td>12200</td>\n",
       "    </tr>\n",
       "  </tbody>\n",
       "</table>\n",
       "</div>"
      ],
      "text/plain": [
       "               country  child_mort  exports  health  imports  income  \\\n",
       "0          Afghanistan        90.2    55.30    7.58     44.9    1610   \n",
       "1              Albania        16.6  1145.20    6.55     48.6    9930   \n",
       "2              Algeria        27.3  1712.64    4.17     31.4   12900   \n",
       "3               Angola       119.0  2199.19    2.85     42.9    5900   \n",
       "4  Antigua and Barbuda        10.3  5551.00    6.03     58.9   19100   \n",
       "\n",
       "   inflation  life_expec  total_fer   gdpp  \n",
       "0       9.44        56.2       5.82    553  \n",
       "1       4.49        76.3       1.65   4090  \n",
       "2      16.10        76.5       2.89   4460  \n",
       "3      22.40        60.1       6.16   3530  \n",
       "4       1.44        76.8       2.13  12200  "
      ]
     },
     "execution_count": 298,
     "metadata": {},
     "output_type": "execute_result"
    }
   ],
   "source": [
    "#As per the definition, modifying the features \n",
    "\n",
    "country['exports']=country['exports']*country['gdpp']/100\n",
    "country.head()"
   ]
  },
  {
   "cell_type": "code",
   "execution_count": 299,
   "metadata": {},
   "outputs": [
    {
     "data": {
      "text/html": [
       "<div>\n",
       "<style scoped>\n",
       "    .dataframe tbody tr th:only-of-type {\n",
       "        vertical-align: middle;\n",
       "    }\n",
       "\n",
       "    .dataframe tbody tr th {\n",
       "        vertical-align: top;\n",
       "    }\n",
       "\n",
       "    .dataframe thead th {\n",
       "        text-align: right;\n",
       "    }\n",
       "</style>\n",
       "<table border=\"1\" class=\"dataframe\">\n",
       "  <thead>\n",
       "    <tr style=\"text-align: right;\">\n",
       "      <th></th>\n",
       "      <th>country</th>\n",
       "      <th>child_mort</th>\n",
       "      <th>exports</th>\n",
       "      <th>health</th>\n",
       "      <th>imports</th>\n",
       "      <th>income</th>\n",
       "      <th>inflation</th>\n",
       "      <th>life_expec</th>\n",
       "      <th>total_fer</th>\n",
       "      <th>gdpp</th>\n",
       "    </tr>\n",
       "  </thead>\n",
       "  <tbody>\n",
       "    <tr>\n",
       "      <th>0</th>\n",
       "      <td>Afghanistan</td>\n",
       "      <td>90.2</td>\n",
       "      <td>55.30</td>\n",
       "      <td>41.9174</td>\n",
       "      <td>248.297</td>\n",
       "      <td>1610</td>\n",
       "      <td>9.44</td>\n",
       "      <td>56.2</td>\n",
       "      <td>5.82</td>\n",
       "      <td>553</td>\n",
       "    </tr>\n",
       "    <tr>\n",
       "      <th>1</th>\n",
       "      <td>Albania</td>\n",
       "      <td>16.6</td>\n",
       "      <td>1145.20</td>\n",
       "      <td>267.8950</td>\n",
       "      <td>1987.740</td>\n",
       "      <td>9930</td>\n",
       "      <td>4.49</td>\n",
       "      <td>76.3</td>\n",
       "      <td>1.65</td>\n",
       "      <td>4090</td>\n",
       "    </tr>\n",
       "    <tr>\n",
       "      <th>2</th>\n",
       "      <td>Algeria</td>\n",
       "      <td>27.3</td>\n",
       "      <td>1712.64</td>\n",
       "      <td>185.9820</td>\n",
       "      <td>1400.440</td>\n",
       "      <td>12900</td>\n",
       "      <td>16.10</td>\n",
       "      <td>76.5</td>\n",
       "      <td>2.89</td>\n",
       "      <td>4460</td>\n",
       "    </tr>\n",
       "    <tr>\n",
       "      <th>3</th>\n",
       "      <td>Angola</td>\n",
       "      <td>119.0</td>\n",
       "      <td>2199.19</td>\n",
       "      <td>100.6050</td>\n",
       "      <td>1514.370</td>\n",
       "      <td>5900</td>\n",
       "      <td>22.40</td>\n",
       "      <td>60.1</td>\n",
       "      <td>6.16</td>\n",
       "      <td>3530</td>\n",
       "    </tr>\n",
       "    <tr>\n",
       "      <th>4</th>\n",
       "      <td>Antigua and Barbuda</td>\n",
       "      <td>10.3</td>\n",
       "      <td>5551.00</td>\n",
       "      <td>735.6600</td>\n",
       "      <td>7185.800</td>\n",
       "      <td>19100</td>\n",
       "      <td>1.44</td>\n",
       "      <td>76.8</td>\n",
       "      <td>2.13</td>\n",
       "      <td>12200</td>\n",
       "    </tr>\n",
       "  </tbody>\n",
       "</table>\n",
       "</div>"
      ],
      "text/plain": [
       "               country  child_mort  exports    health   imports  income  \\\n",
       "0          Afghanistan        90.2    55.30   41.9174   248.297    1610   \n",
       "1              Albania        16.6  1145.20  267.8950  1987.740    9930   \n",
       "2              Algeria        27.3  1712.64  185.9820  1400.440   12900   \n",
       "3               Angola       119.0  2199.19  100.6050  1514.370    5900   \n",
       "4  Antigua and Barbuda        10.3  5551.00  735.6600  7185.800   19100   \n",
       "\n",
       "   inflation  life_expec  total_fer   gdpp  \n",
       "0       9.44        56.2       5.82    553  \n",
       "1       4.49        76.3       1.65   4090  \n",
       "2      16.10        76.5       2.89   4460  \n",
       "3      22.40        60.1       6.16   3530  \n",
       "4       1.44        76.8       2.13  12200  "
      ]
     },
     "execution_count": 299,
     "metadata": {},
     "output_type": "execute_result"
    }
   ],
   "source": [
    "country['health']=country['health']*country['gdpp']/100\n",
    "country['imports']=country['imports']*country['gdpp']/100\n",
    "country.head()"
   ]
  },
  {
   "cell_type": "markdown",
   "metadata": {},
   "source": [
    "# Univariate analysis"
   ]
  },
  {
   "cell_type": "code",
   "execution_count": 300,
   "metadata": {},
   "outputs": [
    {
     "data": {
      "text/plain": [
       "['child_mort',\n",
       " 'exports',\n",
       " 'health',\n",
       " 'imports',\n",
       " 'income',\n",
       " 'inflation',\n",
       " 'life_expec',\n",
       " 'total_fer',\n",
       " 'gdpp']"
      ]
     },
     "execution_count": 300,
     "metadata": {},
     "output_type": "execute_result"
    }
   ],
   "source": [
    "#Getting all the columns from the dataset except country name\n",
    "\n",
    "attributes=list(country.columns[1:])\n",
    "attributes"
   ]
  },
  {
   "cell_type": "code",
   "execution_count": 301,
   "metadata": {},
   "outputs": [
    {
     "data": {
      "image/png": "[encoded data removed]",
      "text/plain": [
       "<Figure size 1440x1080 with 9 Axes>"
      ]
     },
     "metadata": {
      "needs_background": "light"
     },
     "output_type": "display_data"
    }
   ],
   "source": [
    "# Checking distribution of the columns using distplot()\n",
    "\n",
    "row = 3\n",
    "col = 3\n",
    "i = 0\n",
    "plt.figure(figsize=[20,15])\n",
    "\n",
    "for a in attributes:\n",
    "    i += 1\n",
    "    plt.subplot(row,col,i)\n",
    "    sns.distplot(country[a])\n",
    "plt.show()"
   ]
  },
  {
   "cell_type": "markdown",
   "metadata": {},
   "source": [
    "#### Analysis: Skewed distribution hence presence of outliers detected"
   ]
  },
  {
   "cell_type": "code",
   "execution_count": 302,
   "metadata": {},
   "outputs": [
    {
     "data": {
      "image/png": "[encoded data removed]",
      "text/plain": [
       "<Figure size 1440x1080 with 9 Axes>"
      ]
     },
     "metadata": {
      "needs_background": "light"
     },
     "output_type": "display_data"
    }
   ],
   "source": [
    "# checking for outliers\n",
    "\n",
    "row = 3\n",
    "col = 3\n",
    "i = 0\n",
    "plt.figure(figsize=[20,15])\n",
    "\n",
    "for a in attributes:\n",
    "    i += 1\n",
    "    plt.subplot(row,col,i)\n",
    "    sns.boxplot(country[a])\n",
    "\n",
    "plt.show()"
   ]
  },
  {
   "cell_type": "markdown",
   "metadata": {},
   "source": [
    "#### Analysis: Outliers at both ends are present. Since we require the countries requiring help, we cannot remove the countries which have extreme low values or extreme high values because they may be required while final analysis. Hence capping the values instead of removing rows. Taking 5th and 95th percentile as mark."
   ]
  },
  {
   "cell_type": "code",
   "execution_count": 303,
   "metadata": {},
   "outputs": [
    {
     "name": "stdout",
     "output_type": "stream",
     "text": [
      "2.8 153.40000000000003\n"
     ]
    }
   ],
   "source": [
    "#checking the values for 1% and 99% quantile for one column\n",
    "q1 = country['child_mort'].quantile(0.01)\n",
    "q2 = country['child_mort'].quantile(0.99)\n",
    "\n",
    "print(q1, q2)"
   ]
  },
  {
   "cell_type": "code",
   "execution_count": 304,
   "metadata": {},
   "outputs": [
    {
     "data": {
      "text/plain": [
       "(167, 10)"
      ]
     },
     "execution_count": 304,
     "metadata": {},
     "output_type": "execute_result"
    }
   ],
   "source": [
    "country.shape"
   ]
  },
  {
   "cell_type": "code",
   "execution_count": 305,
   "metadata": {},
   "outputs": [],
   "source": [
    "#imputing outlier\n",
    "#decided to got for standard 5% and 95% quantile capping\n",
    "\n",
    "for a in attributes:\n",
    "    Q1 = country[a].quantile(0.05)\n",
    "    Q2 = country[a].quantile(0.95)\n",
    "    country[a][country[a] <= Q1] = Q1\n",
    "    country[a][country[a] >= Q2] = Q2"
   ]
  },
  {
   "cell_type": "code",
   "execution_count": 306,
   "metadata": {},
   "outputs": [
    {
     "data": {
      "text/plain": [
       "(167, 10)"
      ]
     },
     "execution_count": 306,
     "metadata": {},
     "output_type": "execute_result"
    }
   ],
   "source": [
    "country.shape"
   ]
  },
  {
   "cell_type": "code",
   "execution_count": 307,
   "metadata": {},
   "outputs": [
    {
     "data": {
      "image/png": "[encoded data removed]",
      "text/plain": [
       "<Figure size 1440x1080 with 9 Axes>"
      ]
     },
     "metadata": {
      "needs_background": "light"
     },
     "output_type": "display_data"
    }
   ],
   "source": [
    "#plotting boxplot to check the dataset again for outlier values\n",
    "\n",
    "row = 3\n",
    "col = 3\n",
    "i = 0\n",
    "plt.figure(figsize=[20,15])\n",
    "\n",
    "for a in attributes:\n",
    "    i += 1\n",
    "    plt.subplot(row,col,i)\n",
    "    sns.boxplot(country[a])\n",
    "\n",
    "plt.show()"
   ]
  },
  {
   "cell_type": "markdown",
   "metadata": {},
   "source": [
    "# Bivariate analysis"
   ]
  },
  {
   "cell_type": "code",
   "execution_count": 308,
   "metadata": {},
   "outputs": [
    {
     "data": {
      "text/html": [
       "<div>\n",
       "<style scoped>\n",
       "    .dataframe tbody tr th:only-of-type {\n",
       "        vertical-align: middle;\n",
       "    }\n",
       "\n",
       "    .dataframe tbody tr th {\n",
       "        vertical-align: top;\n",
       "    }\n",
       "\n",
       "    .dataframe thead th {\n",
       "        text-align: right;\n",
       "    }\n",
       "</style>\n",
       "<table border=\"1\" class=\"dataframe\">\n",
       "  <thead>\n",
       "    <tr style=\"text-align: right;\">\n",
       "      <th></th>\n",
       "      <th>child_mort</th>\n",
       "      <th>exports</th>\n",
       "      <th>health</th>\n",
       "      <th>imports</th>\n",
       "      <th>income</th>\n",
       "      <th>inflation</th>\n",
       "      <th>life_expec</th>\n",
       "      <th>total_fer</th>\n",
       "      <th>gdpp</th>\n",
       "    </tr>\n",
       "  </thead>\n",
       "  <tbody>\n",
       "    <tr>\n",
       "      <th>count</th>\n",
       "      <td>167.000000</td>\n",
       "      <td>167.000000</td>\n",
       "      <td>167.000000</td>\n",
       "      <td>167.000000</td>\n",
       "      <td>167.000000</td>\n",
       "      <td>167.000000</td>\n",
       "      <td>167.000000</td>\n",
       "      <td>167.000000</td>\n",
       "      <td>167.000000</td>\n",
       "    </tr>\n",
       "    <tr>\n",
       "      <th>mean</th>\n",
       "      <td>36.808623</td>\n",
       "      <td>5784.478480</td>\n",
       "      <td>954.366191</td>\n",
       "      <td>5142.509689</td>\n",
       "      <td>15755.491018</td>\n",
       "      <td>7.016075</td>\n",
       "      <td>70.830060</td>\n",
       "      <td>2.922389</td>\n",
       "      <td>12003.719162</td>\n",
       "    </tr>\n",
       "    <tr>\n",
       "      <th>std</th>\n",
       "      <td>36.193830</td>\n",
       "      <td>8579.136537</td>\n",
       "      <td>1453.198372</td>\n",
       "      <td>6694.383178</td>\n",
       "      <td>14770.353771</td>\n",
       "      <td>6.271398</td>\n",
       "      <td>8.039216</td>\n",
       "      <td>1.438264</td>\n",
       "      <td>15154.443890</td>\n",
       "    </tr>\n",
       "    <tr>\n",
       "      <th>min</th>\n",
       "      <td>3.460000</td>\n",
       "      <td>70.468800</td>\n",
       "      <td>26.715920</td>\n",
       "      <td>169.281000</td>\n",
       "      <td>1213.000000</td>\n",
       "      <td>0.183400</td>\n",
       "      <td>55.780000</td>\n",
       "      <td>1.390000</td>\n",
       "      <td>465.900000</td>\n",
       "    </tr>\n",
       "    <tr>\n",
       "      <th>25%</th>\n",
       "      <td>8.250000</td>\n",
       "      <td>447.140000</td>\n",
       "      <td>78.535500</td>\n",
       "      <td>640.215000</td>\n",
       "      <td>3355.000000</td>\n",
       "      <td>1.810000</td>\n",
       "      <td>65.300000</td>\n",
       "      <td>1.795000</td>\n",
       "      <td>1330.000000</td>\n",
       "    </tr>\n",
       "    <tr>\n",
       "      <th>50%</th>\n",
       "      <td>19.300000</td>\n",
       "      <td>1777.440000</td>\n",
       "      <td>321.886000</td>\n",
       "      <td>2045.580000</td>\n",
       "      <td>9960.000000</td>\n",
       "      <td>5.390000</td>\n",
       "      <td>73.100000</td>\n",
       "      <td>2.410000</td>\n",
       "      <td>4660.000000</td>\n",
       "    </tr>\n",
       "    <tr>\n",
       "      <th>75%</th>\n",
       "      <td>62.100000</td>\n",
       "      <td>7278.000000</td>\n",
       "      <td>976.940000</td>\n",
       "      <td>7719.600000</td>\n",
       "      <td>22800.000000</td>\n",
       "      <td>10.750000</td>\n",
       "      <td>76.800000</td>\n",
       "      <td>3.880000</td>\n",
       "      <td>14050.000000</td>\n",
       "    </tr>\n",
       "    <tr>\n",
       "      <th>max</th>\n",
       "      <td>116.000000</td>\n",
       "      <td>31385.100000</td>\n",
       "      <td>4966.701000</td>\n",
       "      <td>24241.560000</td>\n",
       "      <td>48290.000000</td>\n",
       "      <td>20.870000</td>\n",
       "      <td>81.400000</td>\n",
       "      <td>5.861000</td>\n",
       "      <td>48610.000000</td>\n",
       "    </tr>\n",
       "  </tbody>\n",
       "</table>\n",
       "</div>"
      ],
      "text/plain": [
       "       child_mort       exports       health       imports        income  \\\n",
       "count  167.000000    167.000000   167.000000    167.000000    167.000000   \n",
       "mean    36.808623   5784.478480   954.366191   5142.509689  15755.491018   \n",
       "std     36.193830   8579.136537  1453.198372   6694.383178  14770.353771   \n",
       "min      3.460000     70.468800    26.715920    169.281000   1213.000000   \n",
       "25%      8.250000    447.140000    78.535500    640.215000   3355.000000   \n",
       "50%     19.300000   1777.440000   321.886000   2045.580000   9960.000000   \n",
       "75%     62.100000   7278.000000   976.940000   7719.600000  22800.000000   \n",
       "max    116.000000  31385.100000  4966.701000  24241.560000  48290.000000   \n",
       "\n",
       "        inflation  life_expec   total_fer          gdpp  \n",
       "count  167.000000  167.000000  167.000000    167.000000  \n",
       "mean     7.016075   70.830060    2.922389  12003.719162  \n",
       "std      6.271398    8.039216    1.438264  15154.443890  \n",
       "min      0.183400   55.780000    1.390000    465.900000  \n",
       "25%      1.810000   65.300000    1.795000   1330.000000  \n",
       "50%      5.390000   73.100000    2.410000   4660.000000  \n",
       "75%     10.750000   76.800000    3.880000  14050.000000  \n",
       "max     20.870000   81.400000    5.861000  48610.000000  "
      ]
     },
     "execution_count": 308,
     "metadata": {},
     "output_type": "execute_result"
    }
   ],
   "source": [
    "country.describe()"
   ]
  },
  {
   "cell_type": "code",
   "execution_count": 309,
   "metadata": {},
   "outputs": [],
   "source": [
    "#function for co-relation matrix\n",
    "\n",
    "def corr_matrix(data,title):\n",
    "    plt.figure(figsize=(15, 10))\n",
    "    #Mask the upper side  \n",
    "    mask = np.zeros_like(data, dtype=np.bool)\n",
    "    mask[np.triu_indices_from(mask)] = True\n",
    "\n",
    "    #Diagnol elements\n",
    "    mask[np.diag_indices_from(mask)] = False\n",
    "    \n",
    "    sns.heatmap(data, cmap=\"YlGnBu\",mask=mask,annot=True,linewidth=.3)\n",
    "\n",
    "    plt.title(title)\n",
    "    plt.yticks(rotation=0)\n",
    "    plt.show()"
   ]
  },
  {
   "cell_type": "code",
   "execution_count": 310,
   "metadata": {},
   "outputs": [
    {
     "data": {
      "image/png": "[encoded data removed]",
      "text/plain": [
       "<Figure size 1080x720 with 2 Axes>"
      ]
     },
     "metadata": {
      "needs_background": "light"
     },
     "output_type": "display_data"
    }
   ],
   "source": [
    "corr_matrix(data=country.corr(),title='Correlation for features in dataset')"
   ]
  },
  {
   "cell_type": "markdown",
   "metadata": {},
   "source": [
    "#### Analysis:\n",
    "1. Child mortality rate is highly co-related to total fertility rate and life expectancy. Hence we will take child mortality rate.\n",
    "2. GDP has high co-relation with exports, health, imports and income."
   ]
  },
  {
   "cell_type": "markdown",
   "metadata": {},
   "source": [
    "# Hopkins Statistic"
   ]
  },
  {
   "cell_type": "code",
   "execution_count": 311,
   "metadata": {},
   "outputs": [],
   "source": [
    "from sklearn.neighbors import NearestNeighbors\n",
    "from random import sample\n",
    "from numpy.random import uniform\n",
    "import numpy as np\n",
    "from math import isnan\n",
    " \n",
    "def hopkins(X):\n",
    "    d = X.shape[1]\n",
    "    #d = len(vars) # columns\n",
    "    n = len(X) # rows\n",
    "    m = int(0.1 * n) \n",
    "    nbrs = NearestNeighbors(n_neighbors=1).fit(X.values)\n",
    " \n",
    "    rand_X = sample(range(0, n, 1), m)\n",
    " \n",
    "    ujd = []\n",
    "    wjd = []\n",
    "    for j in range(0, m):\n",
    "        u_dist, _ = nbrs.kneighbors(uniform(np.amin(X,axis=0),np.amax(X,axis=0),d).reshape(1, -1), 2, return_distance=True)\n",
    "        ujd.append(u_dist[0][1])\n",
    "        w_dist, _ = nbrs.kneighbors(X.iloc[rand_X[j]].values.reshape(1, -1), 2, return_distance=True)\n",
    "        wjd.append(w_dist[0][1])\n",
    " \n",
    "    H = sum(ujd) / (sum(ujd) + sum(wjd))\n",
    "    if isnan(H):\n",
    "        print(ujd, wjd)\n",
    "        H = 0\n",
    " \n",
    "    return H"
   ]
  },
  {
   "cell_type": "code",
   "execution_count": 312,
   "metadata": {},
   "outputs": [
    {
     "data": {
      "text/plain": [
       "0.8747275044932463"
      ]
     },
     "execution_count": 312,
     "metadata": {},
     "output_type": "execute_result"
    }
   ],
   "source": [
    "hopkins(country.drop('country', axis=1))"
   ]
  },
  {
   "cell_type": "markdown",
   "metadata": {},
   "source": [
    "#### Analysis: Hopkins value is high which suggests clustering tendency in the data"
   ]
  },
  {
   "cell_type": "markdown",
   "metadata": {},
   "source": [
    "# Preparing data for modelling"
   ]
  },
  {
   "cell_type": "code",
   "execution_count": 313,
   "metadata": {},
   "outputs": [
    {
     "data": {
      "text/html": [
       "<div>\n",
       "<style scoped>\n",
       "    .dataframe tbody tr th:only-of-type {\n",
       "        vertical-align: middle;\n",
       "    }\n",
       "\n",
       "    .dataframe tbody tr th {\n",
       "        vertical-align: top;\n",
       "    }\n",
       "\n",
       "    .dataframe thead th {\n",
       "        text-align: right;\n",
       "    }\n",
       "</style>\n",
       "<table border=\"1\" class=\"dataframe\">\n",
       "  <thead>\n",
       "    <tr style=\"text-align: right;\">\n",
       "      <th></th>\n",
       "      <th>child_mort</th>\n",
       "      <th>exports</th>\n",
       "      <th>health</th>\n",
       "      <th>imports</th>\n",
       "      <th>income</th>\n",
       "      <th>inflation</th>\n",
       "      <th>life_expec</th>\n",
       "      <th>total_fer</th>\n",
       "      <th>gdpp</th>\n",
       "    </tr>\n",
       "  </thead>\n",
       "  <tbody>\n",
       "    <tr>\n",
       "      <th>0</th>\n",
       "      <td>90.2</td>\n",
       "      <td>70.4688</td>\n",
       "      <td>41.9174</td>\n",
       "      <td>248.297</td>\n",
       "      <td>1610.0</td>\n",
       "      <td>9.44</td>\n",
       "      <td>56.2</td>\n",
       "      <td>5.820</td>\n",
       "      <td>553.0</td>\n",
       "    </tr>\n",
       "    <tr>\n",
       "      <th>1</th>\n",
       "      <td>16.6</td>\n",
       "      <td>1145.2000</td>\n",
       "      <td>267.8950</td>\n",
       "      <td>1987.740</td>\n",
       "      <td>9930.0</td>\n",
       "      <td>4.49</td>\n",
       "      <td>76.3</td>\n",
       "      <td>1.650</td>\n",
       "      <td>4090.0</td>\n",
       "    </tr>\n",
       "    <tr>\n",
       "      <th>2</th>\n",
       "      <td>27.3</td>\n",
       "      <td>1712.6400</td>\n",
       "      <td>185.9820</td>\n",
       "      <td>1400.440</td>\n",
       "      <td>12900.0</td>\n",
       "      <td>16.10</td>\n",
       "      <td>76.5</td>\n",
       "      <td>2.890</td>\n",
       "      <td>4460.0</td>\n",
       "    </tr>\n",
       "    <tr>\n",
       "      <th>3</th>\n",
       "      <td>116.0</td>\n",
       "      <td>2199.1900</td>\n",
       "      <td>100.6050</td>\n",
       "      <td>1514.370</td>\n",
       "      <td>5900.0</td>\n",
       "      <td>20.87</td>\n",
       "      <td>60.1</td>\n",
       "      <td>5.861</td>\n",
       "      <td>3530.0</td>\n",
       "    </tr>\n",
       "    <tr>\n",
       "      <th>4</th>\n",
       "      <td>10.3</td>\n",
       "      <td>5551.0000</td>\n",
       "      <td>735.6600</td>\n",
       "      <td>7185.800</td>\n",
       "      <td>19100.0</td>\n",
       "      <td>1.44</td>\n",
       "      <td>76.8</td>\n",
       "      <td>2.130</td>\n",
       "      <td>12200.0</td>\n",
       "    </tr>\n",
       "  </tbody>\n",
       "</table>\n",
       "</div>"
      ],
      "text/plain": [
       "   child_mort    exports    health   imports   income  inflation  life_expec  \\\n",
       "0        90.2    70.4688   41.9174   248.297   1610.0       9.44        56.2   \n",
       "1        16.6  1145.2000  267.8950  1987.740   9930.0       4.49        76.3   \n",
       "2        27.3  1712.6400  185.9820  1400.440  12900.0      16.10        76.5   \n",
       "3       116.0  2199.1900  100.6050  1514.370   5900.0      20.87        60.1   \n",
       "4        10.3  5551.0000  735.6600  7185.800  19100.0       1.44        76.8   \n",
       "\n",
       "   total_fer     gdpp  \n",
       "0      5.820    553.0  \n",
       "1      1.650   4090.0  \n",
       "2      2.890   4460.0  \n",
       "3      5.861   3530.0  \n",
       "4      2.130  12200.0  "
      ]
     },
     "execution_count": 313,
     "metadata": {},
     "output_type": "execute_result"
    }
   ],
   "source": [
    "model_df=country[attributes]\n",
    "model_df.head()"
   ]
  },
  {
   "cell_type": "code",
   "execution_count": 314,
   "metadata": {},
   "outputs": [],
   "source": [
    "#importing libraries\n",
    "\n",
    "import sklearn\n",
    "from sklearn.preprocessing import StandardScaler"
   ]
  },
  {
   "cell_type": "code",
   "execution_count": 315,
   "metadata": {},
   "outputs": [],
   "source": [
    "scaler=StandardScaler()"
   ]
  },
  {
   "cell_type": "code",
   "execution_count": 316,
   "metadata": {},
   "outputs": [
    {
     "data": {
      "text/plain": [
       "(167, 9)"
      ]
     },
     "execution_count": 316,
     "metadata": {},
     "output_type": "execute_result"
    }
   ],
   "source": [
    "#scaling the features\n",
    "\n",
    "country_scaled=scaler.fit_transform(model_df)\n",
    "country_scaled.shape"
   ]
  },
  {
   "cell_type": "code",
   "execution_count": 317,
   "metadata": {},
   "outputs": [
    {
     "data": {
      "text/html": [
       "<div>\n",
       "<style scoped>\n",
       "    .dataframe tbody tr th:only-of-type {\n",
       "        vertical-align: middle;\n",
       "    }\n",
       "\n",
       "    .dataframe tbody tr th {\n",
       "        vertical-align: top;\n",
       "    }\n",
       "\n",
       "    .dataframe thead th {\n",
       "        text-align: right;\n",
       "    }\n",
       "</style>\n",
       "<table border=\"1\" class=\"dataframe\">\n",
       "  <thead>\n",
       "    <tr style=\"text-align: right;\">\n",
       "      <th></th>\n",
       "      <th>0</th>\n",
       "      <th>1</th>\n",
       "      <th>2</th>\n",
       "      <th>3</th>\n",
       "      <th>4</th>\n",
       "      <th>5</th>\n",
       "      <th>6</th>\n",
       "      <th>7</th>\n",
       "      <th>8</th>\n",
       "    </tr>\n",
       "  </thead>\n",
       "  <tbody>\n",
       "    <tr>\n",
       "      <th>0</th>\n",
       "      <td>1.479588</td>\n",
       "      <td>-0.668039</td>\n",
       "      <td>-0.629778</td>\n",
       "      <td>-0.733291</td>\n",
       "      <td>-0.960575</td>\n",
       "      <td>0.387667</td>\n",
       "      <td>-1.825310</td>\n",
       "      <td>2.020718</td>\n",
       "      <td>-0.757874</td>\n",
       "    </tr>\n",
       "    <tr>\n",
       "      <th>1</th>\n",
       "      <td>-0.560024</td>\n",
       "      <td>-0.542389</td>\n",
       "      <td>-0.473807</td>\n",
       "      <td>-0.472674</td>\n",
       "      <td>-0.395590</td>\n",
       "      <td>-0.404004</td>\n",
       "      <td>0.682454</td>\n",
       "      <td>-0.887331</td>\n",
       "      <td>-0.523775</td>\n",
       "    </tr>\n",
       "    <tr>\n",
       "      <th>2</th>\n",
       "      <td>-0.263504</td>\n",
       "      <td>-0.476048</td>\n",
       "      <td>-0.530344</td>\n",
       "      <td>-0.560668</td>\n",
       "      <td>-0.193907</td>\n",
       "      <td>1.452825</td>\n",
       "      <td>0.707406</td>\n",
       "      <td>-0.022587</td>\n",
       "      <td>-0.499286</td>\n",
       "    </tr>\n",
       "    <tr>\n",
       "      <th>3</th>\n",
       "      <td>2.194560</td>\n",
       "      <td>-0.419165</td>\n",
       "      <td>-0.589272</td>\n",
       "      <td>-0.543598</td>\n",
       "      <td>-0.669255</td>\n",
       "      <td>2.215708</td>\n",
       "      <td>-1.338729</td>\n",
       "      <td>2.049310</td>\n",
       "      <td>-0.560839</td>\n",
       "    </tr>\n",
       "    <tr>\n",
       "      <th>4</th>\n",
       "      <td>-0.734610</td>\n",
       "      <td>-0.027297</td>\n",
       "      <td>-0.150953</td>\n",
       "      <td>0.306143</td>\n",
       "      <td>0.227115</td>\n",
       "      <td>-0.891802</td>\n",
       "      <td>0.744836</td>\n",
       "      <td>-0.552591</td>\n",
       "      <td>0.012991</td>\n",
       "    </tr>\n",
       "  </tbody>\n",
       "</table>\n",
       "</div>"
      ],
      "text/plain": [
       "          0         1         2         3         4         5         6  \\\n",
       "0  1.479588 -0.668039 -0.629778 -0.733291 -0.960575  0.387667 -1.825310   \n",
       "1 -0.560024 -0.542389 -0.473807 -0.472674 -0.395590 -0.404004  0.682454   \n",
       "2 -0.263504 -0.476048 -0.530344 -0.560668 -0.193907  1.452825  0.707406   \n",
       "3  2.194560 -0.419165 -0.589272 -0.543598 -0.669255  2.215708 -1.338729   \n",
       "4 -0.734610 -0.027297 -0.150953  0.306143  0.227115 -0.891802  0.744836   \n",
       "\n",
       "          7         8  \n",
       "0  2.020718 -0.757874  \n",
       "1 -0.887331 -0.523775  \n",
       "2 -0.022587 -0.499286  \n",
       "3  2.049310 -0.560839  \n",
       "4 -0.552591  0.012991  "
      ]
     },
     "execution_count": 317,
     "metadata": {},
     "output_type": "execute_result"
    }
   ],
   "source": [
    "# converting to dataframe\n",
    "\n",
    "country_scaled = pd.DataFrame(country_scaled)\n",
    "country_scaled.head()"
   ]
  },
  {
   "cell_type": "markdown",
   "metadata": {},
   "source": [
    "# Modelling"
   ]
  },
  {
   "cell_type": "markdown",
   "metadata": {},
   "source": [
    "## K-Means clustering"
   ]
  },
  {
   "cell_type": "code",
   "execution_count": 318,
   "metadata": {},
   "outputs": [],
   "source": [
    "# importing library\n",
    "from sklearn.cluster import KMeans"
   ]
  },
  {
   "cell_type": "markdown",
   "metadata": {},
   "source": [
    "#### Finding optimal value of cluster"
   ]
  },
  {
   "cell_type": "code",
   "execution_count": 319,
   "metadata": {},
   "outputs": [
    {
     "data": {
      "text/plain": [
       "[<matplotlib.lines.Line2D at 0x20e202f3400>]"
      ]
     },
     "execution_count": 319,
     "metadata": {},
     "output_type": "execute_result"
    },
    {
     "data": {
      "image/png": "[encoded data removed]",
      "text/plain": [
       "<Figure size 432x288 with 1 Axes>"
      ]
     },
     "metadata": {
      "needs_background": "light"
     },
     "output_type": "display_data"
    }
   ],
   "source": [
    "ssd = []\n",
    "range_n_clusters = [2, 3, 4, 5, 6, 7, 8]\n",
    "for num_clusters in range_n_clusters:\n",
    "    kmeans = KMeans(n_clusters=num_clusters, max_iter=50)\n",
    "    kmeans.fit(country_scaled)\n",
    "    \n",
    "    ssd.append(kmeans.inertia_)\n",
    "    \n",
    "# plotting the SSDs for each n_clusters\n",
    "# ssd\n",
    "plt.plot(ssd,marker='x')"
   ]
  },
  {
   "cell_type": "markdown",
   "metadata": {},
   "source": [
    "#### Analysis: From k=2 till k=3 there is steep decline, after that there is not much change. Hence optimal value of K=3"
   ]
  },
  {
   "cell_type": "markdown",
   "metadata": {},
   "source": [
    "#### Silhoutte analysis"
   ]
  },
  {
   "cell_type": "code",
   "execution_count": 320,
   "metadata": {},
   "outputs": [
    {
     "name": "stdout",
     "output_type": "stream",
     "text": [
      "For n_clusters=2, the silhouette score is 0.48447902987180524\n",
      "For n_clusters=3, the silhouette score is 0.4203919640787207\n",
      "For n_clusters=4, the silhouette score is 0.3879858729916906\n",
      "For n_clusters=5, the silhouette score is 0.3608364570380793\n",
      "For n_clusters=6, the silhouette score is 0.3170224233740024\n",
      "For n_clusters=7, the silhouette score is 0.3098125164205753\n",
      "For n_clusters=8, the silhouette score is 0.3492615653098206\n",
      "For n_clusters=9, the silhouette score is 0.33744949870194074\n",
      "For n_clusters=10, the silhouette score is 0.2871758080425047\n",
      "For n_clusters=11, the silhouette score is 0.3082473616284302\n"
     ]
    }
   ],
   "source": [
    "# silhouette analysis\n",
    "from sklearn.metrics import silhouette_score\n",
    "\n",
    "range_clusters = [2, 3, 4, 5, 6, 7, 8, 9, 10, 11]\n",
    "for cluster in range_clusters:\n",
    "    kmeans = KMeans(n_clusters=cluster, max_iter=50)\n",
    "    kmeans.fit(country_scaled)\n",
    "    cluster_labels = kmeans.labels_\n",
    "    silhouette_avg = silhouette_score(country_scaled, cluster_labels)\n",
    "    print(\"For n_clusters={0}, the silhouette score is {1}\".format(cluster, silhouette_avg))"
   ]
  },
  {
   "cell_type": "markdown",
   "metadata": {},
   "source": [
    "#### Analysis: Silhoutte score for k=3 seems optimal. "
   ]
  },
  {
   "cell_type": "code",
   "execution_count": 321,
   "metadata": {},
   "outputs": [
    {
     "data": {
      "text/plain": [
       "KMeans(max_iter=50, n_clusters=4)"
      ]
     },
     "execution_count": 321,
     "metadata": {},
     "output_type": "execute_result"
    }
   ],
   "source": [
    "#first try with cluster number as 4\n",
    "\n",
    "kmeans_1 = KMeans(n_clusters=4, max_iter=50)\n",
    "kmeans_1.fit(country_scaled)"
   ]
  },
  {
   "cell_type": "code",
   "execution_count": 322,
   "metadata": {},
   "outputs": [
    {
     "name": "stdout",
     "output_type": "stream",
     "text": [
      "0: 48\n",
      "2: 78\n",
      "1: 24\n",
      "3: 17\n"
     ]
    }
   ],
   "source": [
    "#printing the value_counts for cluster size as 4\n",
    "\n",
    "import collections\n",
    "arr_1=kmeans_1.labels_\n",
    "elements_count = collections.Counter(arr_1)\n",
    "for key, value in elements_count.items():\n",
    "    print(f\"{key}: {value}\")"
   ]
  },
  {
   "cell_type": "code",
   "execution_count": 323,
   "metadata": {},
   "outputs": [
    {
     "name": "stdout",
     "output_type": "stream",
     "text": [
      "2: 44\n",
      "4: 38\n",
      "0: 46\n",
      "1: 22\n",
      "3: 17\n"
     ]
    }
   ],
   "source": [
    "#second try with cluster=5\n",
    "\n",
    "kmeans_2 = KMeans(n_clusters=5, max_iter=50)\n",
    "kmeans_2.fit(country_scaled)\n",
    "arr_2=kmeans_2.labels_\n",
    "elements_count = collections.Counter(arr_2)\n",
    "for key, value in elements_count.items():\n",
    "    print(f\"{key}: {value}\")"
   ]
  },
  {
   "cell_type": "code",
   "execution_count": 324,
   "metadata": {},
   "outputs": [
    {
     "data": {
      "text/plain": [
       "KMeans(max_iter=50, n_clusters=3)"
      ]
     },
     "execution_count": 324,
     "metadata": {},
     "output_type": "execute_result"
    }
   ],
   "source": [
    "# model with 3 clusters\n",
    "\n",
    "kmeans_3 = KMeans(n_clusters=3, max_iter=50)\n",
    "kmeans_3.fit(country_scaled)"
   ]
  },
  {
   "cell_type": "code",
   "execution_count": 325,
   "metadata": {},
   "outputs": [
    {
     "name": "stdout",
     "output_type": "stream",
     "text": [
      "0: 48\n",
      "2: 82\n",
      "1: 37\n"
     ]
    }
   ],
   "source": [
    "arr_3=kmeans_3.labels_\n",
    "elements_count = collections.Counter(arr_3)\n",
    "for key, value in elements_count.items():\n",
    "    print(f\"{key}: {value}\")"
   ]
  },
  {
   "cell_type": "markdown",
   "metadata": {},
   "source": [
    "### Analysis: The balance of the number of countries in clusters seems best with cluster size as 3. Also using the business logic, the countries can be divided into 3 categories as developing, developed and under-developed based on socio-economic factors."
   ]
  },
  {
   "cell_type": "code",
   "execution_count": 326,
   "metadata": {},
   "outputs": [
    {
     "data": {
      "text/plain": [
       "array([0, 2, 2, 0, 2, 2, 2, 1, 1, 2, 1, 1, 2, 2, 2, 1, 2, 0, 2, 2, 2, 0,\n",
       "       2, 1, 2, 0, 0, 2, 0, 1, 2, 0, 0, 2, 2, 2, 0, 0, 0, 2, 0, 2, 1, 1,\n",
       "       1, 2, 2, 2, 2, 0, 0, 2, 2, 1, 1, 0, 0, 2, 1, 0, 1, 2, 2, 0, 0, 2,\n",
       "       0, 2, 1, 2, 2, 2, 0, 1, 1, 1, 2, 1, 2, 2, 0, 0, 1, 2, 0, 2, 2, 0,\n",
       "       0, 2, 2, 1, 2, 0, 0, 2, 2, 0, 1, 0, 2, 2, 2, 2, 2, 2, 0, 2, 0, 2,\n",
       "       1, 1, 0, 0, 1, 2, 0, 2, 2, 2, 2, 2, 1, 1, 2, 2, 0, 2, 2, 0, 2, 2,\n",
       "       0, 1, 1, 1, 0, 0, 1, 1, 2, 2, 0, 2, 1, 1, 2, 0, 2, 0, 0, 2, 2, 2,\n",
       "       2, 0, 2, 1, 1, 1, 2, 2, 2, 2, 2, 0, 0])"
      ]
     },
     "execution_count": 326,
     "metadata": {},
     "output_type": "execute_result"
    }
   ],
   "source": [
    "kmeans_3.labels_"
   ]
  },
  {
   "cell_type": "code",
   "execution_count": 327,
   "metadata": {},
   "outputs": [
    {
     "data": {
      "text/html": [
       "<div>\n",
       "<style scoped>\n",
       "    .dataframe tbody tr th:only-of-type {\n",
       "        vertical-align: middle;\n",
       "    }\n",
       "\n",
       "    .dataframe tbody tr th {\n",
       "        vertical-align: top;\n",
       "    }\n",
       "\n",
       "    .dataframe thead th {\n",
       "        text-align: right;\n",
       "    }\n",
       "</style>\n",
       "<table border=\"1\" class=\"dataframe\">\n",
       "  <thead>\n",
       "    <tr style=\"text-align: right;\">\n",
       "      <th></th>\n",
       "      <th>country</th>\n",
       "      <th>child_mort</th>\n",
       "      <th>exports</th>\n",
       "      <th>health</th>\n",
       "      <th>imports</th>\n",
       "      <th>income</th>\n",
       "      <th>inflation</th>\n",
       "      <th>life_expec</th>\n",
       "      <th>total_fer</th>\n",
       "      <th>gdpp</th>\n",
       "      <th>cluster_id</th>\n",
       "    </tr>\n",
       "  </thead>\n",
       "  <tbody>\n",
       "    <tr>\n",
       "      <th>0</th>\n",
       "      <td>Afghanistan</td>\n",
       "      <td>90.2</td>\n",
       "      <td>70.4688</td>\n",
       "      <td>41.9174</td>\n",
       "      <td>248.297</td>\n",
       "      <td>1610.0</td>\n",
       "      <td>9.44</td>\n",
       "      <td>56.2</td>\n",
       "      <td>5.820</td>\n",
       "      <td>553.0</td>\n",
       "      <td>0</td>\n",
       "    </tr>\n",
       "    <tr>\n",
       "      <th>1</th>\n",
       "      <td>Albania</td>\n",
       "      <td>16.6</td>\n",
       "      <td>1145.2000</td>\n",
       "      <td>267.8950</td>\n",
       "      <td>1987.740</td>\n",
       "      <td>9930.0</td>\n",
       "      <td>4.49</td>\n",
       "      <td>76.3</td>\n",
       "      <td>1.650</td>\n",
       "      <td>4090.0</td>\n",
       "      <td>2</td>\n",
       "    </tr>\n",
       "    <tr>\n",
       "      <th>2</th>\n",
       "      <td>Algeria</td>\n",
       "      <td>27.3</td>\n",
       "      <td>1712.6400</td>\n",
       "      <td>185.9820</td>\n",
       "      <td>1400.440</td>\n",
       "      <td>12900.0</td>\n",
       "      <td>16.10</td>\n",
       "      <td>76.5</td>\n",
       "      <td>2.890</td>\n",
       "      <td>4460.0</td>\n",
       "      <td>2</td>\n",
       "    </tr>\n",
       "    <tr>\n",
       "      <th>3</th>\n",
       "      <td>Angola</td>\n",
       "      <td>116.0</td>\n",
       "      <td>2199.1900</td>\n",
       "      <td>100.6050</td>\n",
       "      <td>1514.370</td>\n",
       "      <td>5900.0</td>\n",
       "      <td>20.87</td>\n",
       "      <td>60.1</td>\n",
       "      <td>5.861</td>\n",
       "      <td>3530.0</td>\n",
       "      <td>0</td>\n",
       "    </tr>\n",
       "    <tr>\n",
       "      <th>4</th>\n",
       "      <td>Antigua and Barbuda</td>\n",
       "      <td>10.3</td>\n",
       "      <td>5551.0000</td>\n",
       "      <td>735.6600</td>\n",
       "      <td>7185.800</td>\n",
       "      <td>19100.0</td>\n",
       "      <td>1.44</td>\n",
       "      <td>76.8</td>\n",
       "      <td>2.130</td>\n",
       "      <td>12200.0</td>\n",
       "      <td>2</td>\n",
       "    </tr>\n",
       "  </tbody>\n",
       "</table>\n",
       "</div>"
      ],
      "text/plain": [
       "               country  child_mort    exports    health   imports   income  \\\n",
       "0          Afghanistan        90.2    70.4688   41.9174   248.297   1610.0   \n",
       "1              Albania        16.6  1145.2000  267.8950  1987.740   9930.0   \n",
       "2              Algeria        27.3  1712.6400  185.9820  1400.440  12900.0   \n",
       "3               Angola       116.0  2199.1900  100.6050  1514.370   5900.0   \n",
       "4  Antigua and Barbuda        10.3  5551.0000  735.6600  7185.800  19100.0   \n",
       "\n",
       "   inflation  life_expec  total_fer     gdpp  cluster_id  \n",
       "0       9.44        56.2      5.820    553.0           0  \n",
       "1       4.49        76.3      1.650   4090.0           2  \n",
       "2      16.10        76.5      2.890   4460.0           2  \n",
       "3      20.87        60.1      5.861   3530.0           0  \n",
       "4       1.44        76.8      2.130  12200.0           2  "
      ]
     },
     "execution_count": 327,
     "metadata": {},
     "output_type": "execute_result"
    }
   ],
   "source": [
    "# assigning the label with cluster size 3 as final decision\n",
    "\n",
    "country['cluster_id'] = kmeans_3.labels_\n",
    "country.head()"
   ]
  },
  {
   "cell_type": "code",
   "execution_count": 328,
   "metadata": {},
   "outputs": [
    {
     "data": {
      "text/plain": [
       "2    82\n",
       "0    48\n",
       "1    37\n",
       "Name: cluster_id, dtype: int64"
      ]
     },
     "execution_count": 328,
     "metadata": {},
     "output_type": "execute_result"
    }
   ],
   "source": [
    "# checking cluster counts\n",
    "\n",
    "country['cluster_id'].value_counts()"
   ]
  },
  {
   "cell_type": "code",
   "execution_count": 329,
   "metadata": {},
   "outputs": [
    {
     "data": {
      "image/png": "[encoded data removed]",
      "text/plain": [
       "<Figure size 1440x576 with 3 Axes>"
      ]
     },
     "metadata": {
      "needs_background": "light"
     },
     "output_type": "display_data"
    }
   ],
   "source": [
    "# Boxplot for K-means Cluster Analysis\n",
    "\n",
    "plt.figure(figsize=[20,8])\n",
    "plt.subplot(1,3,1)\n",
    "sns.boxplot(x='cluster_id',y='gdpp',data=country)\n",
    "plt.title(\"Boxplot for GDPP\")\n",
    "plt.subplot(1,3,2)\n",
    "sns.boxplot(x='cluster_id',y='child_mort',data=country)\n",
    "plt.title(\"Boxplot for Child Mortality\")\n",
    "plt.subplot(1,3,3)\n",
    "sns.boxplot(x='cluster_id',y='income',data=country)\n",
    "plt.title(\"Boxplot for Income\")\n",
    "plt.show()"
   ]
  },
  {
   "cell_type": "code",
   "execution_count": 330,
   "metadata": {},
   "outputs": [
    {
     "data": {
      "image/png": "[encoded data removed]",
      "text/plain": [
       "<Figure size 1440x576 with 3 Axes>"
      ]
     },
     "metadata": {
      "needs_background": "light"
     },
     "output_type": "display_data"
    }
   ],
   "source": [
    "# Scatter plot for K-means Cluster Analysis\n",
    "\n",
    "plt.figure(figsize=[20,8])\n",
    "plt.subplot(1,3,1)\n",
    "sns.scatterplot(x='child_mort',y='gdpp',data=country,hue='cluster_id',palette='Set1')\n",
    "plt.title(\"child mortality vs gdpp\")\n",
    "plt.subplot(1,3,2)\n",
    "sns.scatterplot(x='child_mort',y='income',data=country,hue='cluster_id',palette='Set1')\n",
    "plt.title(\"child mortality vs income\")\n",
    "plt.subplot(1,3,3)\n",
    "sns.scatterplot(x='income',y='gdpp',data=country,hue='cluster_id',palette='Set1')\n",
    "plt.title(\"income vs gdpp\")\n",
    "plt.show()"
   ]
  },
  {
   "cell_type": "markdown",
   "metadata": {},
   "source": [
    "#### Analysis: Countries in cluster 0 have low gdpp, low income and high child mortality rate."
   ]
  },
  {
   "cell_type": "markdown",
   "metadata": {},
   "source": [
    "## K-Means Cluster Profiling"
   ]
  },
  {
   "cell_type": "code",
   "execution_count": 331,
   "metadata": {
    "scrolled": true
   },
   "outputs": [
    {
     "data": {
      "text/html": [
       "<div>\n",
       "<style scoped>\n",
       "    .dataframe tbody tr th:only-of-type {\n",
       "        vertical-align: middle;\n",
       "    }\n",
       "\n",
       "    .dataframe tbody tr th {\n",
       "        vertical-align: top;\n",
       "    }\n",
       "\n",
       "    .dataframe thead th {\n",
       "        text-align: right;\n",
       "    }\n",
       "</style>\n",
       "<table border=\"1\" class=\"dataframe\">\n",
       "  <thead>\n",
       "    <tr style=\"text-align: right;\">\n",
       "      <th></th>\n",
       "      <th>country</th>\n",
       "      <th>child_mort</th>\n",
       "      <th>exports</th>\n",
       "      <th>health</th>\n",
       "      <th>imports</th>\n",
       "      <th>income</th>\n",
       "      <th>inflation</th>\n",
       "      <th>life_expec</th>\n",
       "      <th>total_fer</th>\n",
       "      <th>gdpp</th>\n",
       "      <th>cluster_id</th>\n",
       "    </tr>\n",
       "  </thead>\n",
       "  <tbody>\n",
       "    <tr>\n",
       "      <th>31</th>\n",
       "      <td>Central African Republic</td>\n",
       "      <td>116.0</td>\n",
       "      <td>70.4688</td>\n",
       "      <td>26.71592</td>\n",
       "      <td>169.281</td>\n",
       "      <td>1213.0</td>\n",
       "      <td>2.01</td>\n",
       "      <td>55.78</td>\n",
       "      <td>5.210</td>\n",
       "      <td>465.9</td>\n",
       "      <td>0</td>\n",
       "    </tr>\n",
       "    <tr>\n",
       "      <th>37</th>\n",
       "      <td>Congo, Dem. Rep.</td>\n",
       "      <td>116.0</td>\n",
       "      <td>137.2740</td>\n",
       "      <td>26.71592</td>\n",
       "      <td>169.281</td>\n",
       "      <td>1213.0</td>\n",
       "      <td>20.80</td>\n",
       "      <td>57.50</td>\n",
       "      <td>5.861</td>\n",
       "      <td>465.9</td>\n",
       "      <td>0</td>\n",
       "    </tr>\n",
       "    <tr>\n",
       "      <th>112</th>\n",
       "      <td>Niger</td>\n",
       "      <td>116.0</td>\n",
       "      <td>77.2560</td>\n",
       "      <td>26.71592</td>\n",
       "      <td>170.868</td>\n",
       "      <td>1213.0</td>\n",
       "      <td>2.55</td>\n",
       "      <td>58.80</td>\n",
       "      <td>5.861</td>\n",
       "      <td>465.9</td>\n",
       "      <td>0</td>\n",
       "    </tr>\n",
       "    <tr>\n",
       "      <th>106</th>\n",
       "      <td>Mozambique</td>\n",
       "      <td>101.0</td>\n",
       "      <td>131.9850</td>\n",
       "      <td>26.71592</td>\n",
       "      <td>193.578</td>\n",
       "      <td>1213.0</td>\n",
       "      <td>7.64</td>\n",
       "      <td>55.78</td>\n",
       "      <td>5.560</td>\n",
       "      <td>465.9</td>\n",
       "      <td>0</td>\n",
       "    </tr>\n",
       "    <tr>\n",
       "      <th>26</th>\n",
       "      <td>Burundi</td>\n",
       "      <td>93.6</td>\n",
       "      <td>70.4688</td>\n",
       "      <td>26.79600</td>\n",
       "      <td>169.281</td>\n",
       "      <td>1213.0</td>\n",
       "      <td>12.30</td>\n",
       "      <td>57.70</td>\n",
       "      <td>5.861</td>\n",
       "      <td>465.9</td>\n",
       "      <td>0</td>\n",
       "    </tr>\n",
       "  </tbody>\n",
       "</table>\n",
       "</div>"
      ],
      "text/plain": [
       "                      country  child_mort   exports    health  imports  \\\n",
       "31   Central African Republic       116.0   70.4688  26.71592  169.281   \n",
       "37           Congo, Dem. Rep.       116.0  137.2740  26.71592  169.281   \n",
       "112                     Niger       116.0   77.2560  26.71592  170.868   \n",
       "106                Mozambique       101.0  131.9850  26.71592  193.578   \n",
       "26                    Burundi        93.6   70.4688  26.79600  169.281   \n",
       "\n",
       "     income  inflation  life_expec  total_fer   gdpp  cluster_id  \n",
       "31   1213.0       2.01       55.78      5.210  465.9           0  \n",
       "37   1213.0      20.80       57.50      5.861  465.9           0  \n",
       "112  1213.0       2.55       58.80      5.861  465.9           0  \n",
       "106  1213.0       7.64       55.78      5.560  465.9           0  \n",
       "26   1213.0      12.30       57.70      5.861  465.9           0  "
      ]
     },
     "execution_count": 331,
     "metadata": {},
     "output_type": "execute_result"
    }
   ],
   "source": [
    "k_mean_final_df = country[country['cluster_id']==0].sort_values(by=['gdpp', 'income', 'child_mort'], ascending= [True, True, False])\n",
    "k_mean_final_df.head()"
   ]
  },
  {
   "cell_type": "code",
   "execution_count": 332,
   "metadata": {},
   "outputs": [
    {
     "data": {
      "text/plain": [
       "(48, 11)"
      ]
     },
     "execution_count": 332,
     "metadata": {},
     "output_type": "execute_result"
    }
   ],
   "source": [
    "k_mean_final_df.shape"
   ]
  },
  {
   "cell_type": "code",
   "execution_count": 333,
   "metadata": {},
   "outputs": [
    {
     "data": {
      "text/plain": [
       "['Central African Republic',\n",
       " 'Congo, Dem. Rep.',\n",
       " 'Niger',\n",
       " 'Mozambique',\n",
       " 'Burundi',\n",
       " 'Malawi',\n",
       " 'Liberia',\n",
       " 'Sierra Leone',\n",
       " 'Madagascar',\n",
       " 'Eritrea']"
      ]
     },
     "execution_count": 333,
     "metadata": {},
     "output_type": "execute_result"
    }
   ],
   "source": [
    "# Top 10 countries which are in direst need of help\n",
    "# Final list of countries\n",
    "\n",
    "list(k_mean_final_df['country'].head(10).values)"
   ]
  },
  {
   "cell_type": "markdown",
   "metadata": {},
   "source": [
    "## Hierarchical Clustering"
   ]
  },
  {
   "cell_type": "code",
   "execution_count": 334,
   "metadata": {},
   "outputs": [],
   "source": [
    "#import libraries\n",
    "\n",
    "from scipy.cluster.hierarchy import linkage\n",
    "from scipy.cluster.hierarchy import dendrogram\n",
    "from scipy.cluster.hierarchy import cut_tree"
   ]
  },
  {
   "cell_type": "code",
   "execution_count": 335,
   "metadata": {},
   "outputs": [
    {
     "data": {
      "text/html": [
       "<div>\n",
       "<style scoped>\n",
       "    .dataframe tbody tr th:only-of-type {\n",
       "        vertical-align: middle;\n",
       "    }\n",
       "\n",
       "    .dataframe tbody tr th {\n",
       "        vertical-align: top;\n",
       "    }\n",
       "\n",
       "    .dataframe thead th {\n",
       "        text-align: right;\n",
       "    }\n",
       "</style>\n",
       "<table border=\"1\" class=\"dataframe\">\n",
       "  <thead>\n",
       "    <tr style=\"text-align: right;\">\n",
       "      <th></th>\n",
       "      <th>0</th>\n",
       "      <th>1</th>\n",
       "      <th>2</th>\n",
       "      <th>3</th>\n",
       "      <th>4</th>\n",
       "      <th>5</th>\n",
       "      <th>6</th>\n",
       "      <th>7</th>\n",
       "      <th>8</th>\n",
       "    </tr>\n",
       "  </thead>\n",
       "  <tbody>\n",
       "    <tr>\n",
       "      <th>0</th>\n",
       "      <td>1.479588</td>\n",
       "      <td>-0.668039</td>\n",
       "      <td>-0.629778</td>\n",
       "      <td>-0.733291</td>\n",
       "      <td>-0.960575</td>\n",
       "      <td>0.387667</td>\n",
       "      <td>-1.825310</td>\n",
       "      <td>2.020718</td>\n",
       "      <td>-0.757874</td>\n",
       "    </tr>\n",
       "    <tr>\n",
       "      <th>1</th>\n",
       "      <td>-0.560024</td>\n",
       "      <td>-0.542389</td>\n",
       "      <td>-0.473807</td>\n",
       "      <td>-0.472674</td>\n",
       "      <td>-0.395590</td>\n",
       "      <td>-0.404004</td>\n",
       "      <td>0.682454</td>\n",
       "      <td>-0.887331</td>\n",
       "      <td>-0.523775</td>\n",
       "    </tr>\n",
       "    <tr>\n",
       "      <th>2</th>\n",
       "      <td>-0.263504</td>\n",
       "      <td>-0.476048</td>\n",
       "      <td>-0.530344</td>\n",
       "      <td>-0.560668</td>\n",
       "      <td>-0.193907</td>\n",
       "      <td>1.452825</td>\n",
       "      <td>0.707406</td>\n",
       "      <td>-0.022587</td>\n",
       "      <td>-0.499286</td>\n",
       "    </tr>\n",
       "    <tr>\n",
       "      <th>3</th>\n",
       "      <td>2.194560</td>\n",
       "      <td>-0.419165</td>\n",
       "      <td>-0.589272</td>\n",
       "      <td>-0.543598</td>\n",
       "      <td>-0.669255</td>\n",
       "      <td>2.215708</td>\n",
       "      <td>-1.338729</td>\n",
       "      <td>2.049310</td>\n",
       "      <td>-0.560839</td>\n",
       "    </tr>\n",
       "    <tr>\n",
       "      <th>4</th>\n",
       "      <td>-0.734610</td>\n",
       "      <td>-0.027297</td>\n",
       "      <td>-0.150953</td>\n",
       "      <td>0.306143</td>\n",
       "      <td>0.227115</td>\n",
       "      <td>-0.891802</td>\n",
       "      <td>0.744836</td>\n",
       "      <td>-0.552591</td>\n",
       "      <td>0.012991</td>\n",
       "    </tr>\n",
       "  </tbody>\n",
       "</table>\n",
       "</div>"
      ],
      "text/plain": [
       "          0         1         2         3         4         5         6  \\\n",
       "0  1.479588 -0.668039 -0.629778 -0.733291 -0.960575  0.387667 -1.825310   \n",
       "1 -0.560024 -0.542389 -0.473807 -0.472674 -0.395590 -0.404004  0.682454   \n",
       "2 -0.263504 -0.476048 -0.530344 -0.560668 -0.193907  1.452825  0.707406   \n",
       "3  2.194560 -0.419165 -0.589272 -0.543598 -0.669255  2.215708 -1.338729   \n",
       "4 -0.734610 -0.027297 -0.150953  0.306143  0.227115 -0.891802  0.744836   \n",
       "\n",
       "          7         8  \n",
       "0  2.020718 -0.757874  \n",
       "1 -0.887331 -0.523775  \n",
       "2 -0.022587 -0.499286  \n",
       "3  2.049310 -0.560839  \n",
       "4 -0.552591  0.012991  "
      ]
     },
     "execution_count": 335,
     "metadata": {},
     "output_type": "execute_result"
    }
   ],
   "source": [
    "country_scaled.head()"
   ]
  },
  {
   "cell_type": "code",
   "execution_count": 336,
   "metadata": {},
   "outputs": [
    {
     "data": {
      "text/html": [
       "<div>\n",
       "<style scoped>\n",
       "    .dataframe tbody tr th:only-of-type {\n",
       "        vertical-align: middle;\n",
       "    }\n",
       "\n",
       "    .dataframe tbody tr th {\n",
       "        vertical-align: top;\n",
       "    }\n",
       "\n",
       "    .dataframe thead th {\n",
       "        text-align: right;\n",
       "    }\n",
       "</style>\n",
       "<table border=\"1\" class=\"dataframe\">\n",
       "  <thead>\n",
       "    <tr style=\"text-align: right;\">\n",
       "      <th></th>\n",
       "      <th>country</th>\n",
       "      <th>child_mort</th>\n",
       "      <th>exports</th>\n",
       "      <th>health</th>\n",
       "      <th>imports</th>\n",
       "      <th>income</th>\n",
       "      <th>inflation</th>\n",
       "      <th>life_expec</th>\n",
       "      <th>total_fer</th>\n",
       "      <th>gdpp</th>\n",
       "      <th>cluster_id</th>\n",
       "    </tr>\n",
       "  </thead>\n",
       "  <tbody>\n",
       "    <tr>\n",
       "      <th>0</th>\n",
       "      <td>Afghanistan</td>\n",
       "      <td>90.2</td>\n",
       "      <td>70.4688</td>\n",
       "      <td>41.9174</td>\n",
       "      <td>248.297</td>\n",
       "      <td>1610.0</td>\n",
       "      <td>9.44</td>\n",
       "      <td>56.2</td>\n",
       "      <td>5.820</td>\n",
       "      <td>553.0</td>\n",
       "      <td>0</td>\n",
       "    </tr>\n",
       "    <tr>\n",
       "      <th>1</th>\n",
       "      <td>Albania</td>\n",
       "      <td>16.6</td>\n",
       "      <td>1145.2000</td>\n",
       "      <td>267.8950</td>\n",
       "      <td>1987.740</td>\n",
       "      <td>9930.0</td>\n",
       "      <td>4.49</td>\n",
       "      <td>76.3</td>\n",
       "      <td>1.650</td>\n",
       "      <td>4090.0</td>\n",
       "      <td>2</td>\n",
       "    </tr>\n",
       "    <tr>\n",
       "      <th>2</th>\n",
       "      <td>Algeria</td>\n",
       "      <td>27.3</td>\n",
       "      <td>1712.6400</td>\n",
       "      <td>185.9820</td>\n",
       "      <td>1400.440</td>\n",
       "      <td>12900.0</td>\n",
       "      <td>16.10</td>\n",
       "      <td>76.5</td>\n",
       "      <td>2.890</td>\n",
       "      <td>4460.0</td>\n",
       "      <td>2</td>\n",
       "    </tr>\n",
       "    <tr>\n",
       "      <th>3</th>\n",
       "      <td>Angola</td>\n",
       "      <td>116.0</td>\n",
       "      <td>2199.1900</td>\n",
       "      <td>100.6050</td>\n",
       "      <td>1514.370</td>\n",
       "      <td>5900.0</td>\n",
       "      <td>20.87</td>\n",
       "      <td>60.1</td>\n",
       "      <td>5.861</td>\n",
       "      <td>3530.0</td>\n",
       "      <td>0</td>\n",
       "    </tr>\n",
       "    <tr>\n",
       "      <th>4</th>\n",
       "      <td>Antigua and Barbuda</td>\n",
       "      <td>10.3</td>\n",
       "      <td>5551.0000</td>\n",
       "      <td>735.6600</td>\n",
       "      <td>7185.800</td>\n",
       "      <td>19100.0</td>\n",
       "      <td>1.44</td>\n",
       "      <td>76.8</td>\n",
       "      <td>2.130</td>\n",
       "      <td>12200.0</td>\n",
       "      <td>2</td>\n",
       "    </tr>\n",
       "  </tbody>\n",
       "</table>\n",
       "</div>"
      ],
      "text/plain": [
       "               country  child_mort    exports    health   imports   income  \\\n",
       "0          Afghanistan        90.2    70.4688   41.9174   248.297   1610.0   \n",
       "1              Albania        16.6  1145.2000  267.8950  1987.740   9930.0   \n",
       "2              Algeria        27.3  1712.6400  185.9820  1400.440  12900.0   \n",
       "3               Angola       116.0  2199.1900  100.6050  1514.370   5900.0   \n",
       "4  Antigua and Barbuda        10.3  5551.0000  735.6600  7185.800  19100.0   \n",
       "\n",
       "   inflation  life_expec  total_fer     gdpp  cluster_id  \n",
       "0       9.44        56.2      5.820    553.0           0  \n",
       "1       4.49        76.3      1.650   4090.0           2  \n",
       "2      16.10        76.5      2.890   4460.0           2  \n",
       "3      20.87        60.1      5.861   3530.0           0  \n",
       "4       1.44        76.8      2.130  12200.0           2  "
      ]
     },
     "execution_count": 336,
     "metadata": {},
     "output_type": "execute_result"
    }
   ],
   "source": [
    "country.head()"
   ]
  },
  {
   "cell_type": "code",
   "execution_count": 337,
   "metadata": {},
   "outputs": [
    {
     "data": {
      "text/plain": [
       "(167, 9)"
      ]
     },
     "execution_count": 337,
     "metadata": {},
     "output_type": "execute_result"
    }
   ],
   "source": [
    "country_scaled.shape"
   ]
  },
  {
   "cell_type": "code",
   "execution_count": 338,
   "metadata": {},
   "outputs": [
    {
     "data": {
      "image/png": "[encoded data removed]",
      "text/plain": [
       "<Figure size 432x288 with 1 Axes>"
      ]
     },
     "metadata": {
      "needs_background": "light"
     },
     "output_type": "display_data"
    }
   ],
   "source": [
    "# single linkage\n",
    "\n",
    "mergings = linkage(country_scaled, method=\"single\", metric='euclidean')\n",
    "dendrogram(mergings)\n",
    "plt.show()"
   ]
  },
  {
   "cell_type": "markdown",
   "metadata": {},
   "source": [
    "#### Analysis: This is not easily interpretable"
   ]
  },
  {
   "cell_type": "code",
   "execution_count": 339,
   "metadata": {},
   "outputs": [
    {
     "data": {
      "image/png": "[encoded data removed]",
      "text/plain": [
       "<Figure size 432x288 with 1 Axes>"
      ]
     },
     "metadata": {
      "needs_background": "light"
     },
     "output_type": "display_data"
    }
   ],
   "source": [
    "# complete linkage\n",
    "\n",
    "mergings = linkage(country_scaled, method='complete', metric='euclidean')\n",
    "dendrogram(mergings)\n",
    "plt.show()"
   ]
  },
  {
   "cell_type": "markdown",
   "metadata": {},
   "source": [
    "#### Analysis: This is visually interpretable"
   ]
  },
  {
   "cell_type": "code",
   "execution_count": 340,
   "metadata": {},
   "outputs": [
    {
     "data": {
      "text/plain": [
       "array([0, 1, 1, 0, 1, 1, 1, 2, 2, 1, 2, 2, 1, 1, 1, 2, 1, 0, 1, 1, 1, 1,\n",
       "       1, 2, 1, 0, 0, 1, 0, 2, 1, 0, 0, 1, 1, 1, 0, 0, 0, 1, 0, 1, 2, 2,\n",
       "       2, 1, 1, 1, 1, 0, 0, 1, 1, 2, 2, 0, 0, 1, 2, 0, 2, 1, 1, 0, 0, 1,\n",
       "       0, 1, 2, 1, 1, 1, 0, 2, 2, 2, 1, 2, 1, 1, 0, 1, 2, 1, 0, 1, 1, 0,\n",
       "       0, 2, 1, 2, 1, 0, 0, 1, 1, 0, 2, 0, 1, 1, 1, 1, 1, 1, 0, 1, 1, 1,\n",
       "       2, 2, 0, 0, 2, 2, 0, 1, 1, 1, 1, 1, 2, 2, 1, 1, 0, 1, 2, 0, 1, 1,\n",
       "       0, 2, 2, 2, 1, 1, 2, 2, 1, 1, 0, 1, 2, 2, 1, 0, 1, 0, 0, 1, 1, 1,\n",
       "       1, 0, 1, 2, 2, 2, 1, 1, 1, 1, 1, 0, 0])"
      ]
     },
     "execution_count": 340,
     "metadata": {},
     "output_type": "execute_result"
    }
   ],
   "source": [
    "# cutting the dendogram at 3 clusters\n",
    "\n",
    "cluster_labels = cut_tree(mergings, n_clusters=3).reshape(-1, )\n",
    "cluster_labels"
   ]
  },
  {
   "cell_type": "code",
   "execution_count": 341,
   "metadata": {},
   "outputs": [
    {
     "data": {
      "text/html": [
       "<div>\n",
       "<style scoped>\n",
       "    .dataframe tbody tr th:only-of-type {\n",
       "        vertical-align: middle;\n",
       "    }\n",
       "\n",
       "    .dataframe tbody tr th {\n",
       "        vertical-align: top;\n",
       "    }\n",
       "\n",
       "    .dataframe thead th {\n",
       "        text-align: right;\n",
       "    }\n",
       "</style>\n",
       "<table border=\"1\" class=\"dataframe\">\n",
       "  <thead>\n",
       "    <tr style=\"text-align: right;\">\n",
       "      <th></th>\n",
       "      <th>country</th>\n",
       "      <th>child_mort</th>\n",
       "      <th>exports</th>\n",
       "      <th>health</th>\n",
       "      <th>imports</th>\n",
       "      <th>income</th>\n",
       "      <th>inflation</th>\n",
       "      <th>life_expec</th>\n",
       "      <th>total_fer</th>\n",
       "      <th>gdpp</th>\n",
       "      <th>cluster_id</th>\n",
       "      <th>cluster_id_hierar</th>\n",
       "    </tr>\n",
       "  </thead>\n",
       "  <tbody>\n",
       "    <tr>\n",
       "      <th>0</th>\n",
       "      <td>Afghanistan</td>\n",
       "      <td>90.2</td>\n",
       "      <td>70.4688</td>\n",
       "      <td>41.9174</td>\n",
       "      <td>248.297</td>\n",
       "      <td>1610.0</td>\n",
       "      <td>9.44</td>\n",
       "      <td>56.2</td>\n",
       "      <td>5.820</td>\n",
       "      <td>553.0</td>\n",
       "      <td>0</td>\n",
       "      <td>0</td>\n",
       "    </tr>\n",
       "    <tr>\n",
       "      <th>1</th>\n",
       "      <td>Albania</td>\n",
       "      <td>16.6</td>\n",
       "      <td>1145.2000</td>\n",
       "      <td>267.8950</td>\n",
       "      <td>1987.740</td>\n",
       "      <td>9930.0</td>\n",
       "      <td>4.49</td>\n",
       "      <td>76.3</td>\n",
       "      <td>1.650</td>\n",
       "      <td>4090.0</td>\n",
       "      <td>2</td>\n",
       "      <td>1</td>\n",
       "    </tr>\n",
       "    <tr>\n",
       "      <th>2</th>\n",
       "      <td>Algeria</td>\n",
       "      <td>27.3</td>\n",
       "      <td>1712.6400</td>\n",
       "      <td>185.9820</td>\n",
       "      <td>1400.440</td>\n",
       "      <td>12900.0</td>\n",
       "      <td>16.10</td>\n",
       "      <td>76.5</td>\n",
       "      <td>2.890</td>\n",
       "      <td>4460.0</td>\n",
       "      <td>2</td>\n",
       "      <td>1</td>\n",
       "    </tr>\n",
       "    <tr>\n",
       "      <th>3</th>\n",
       "      <td>Angola</td>\n",
       "      <td>116.0</td>\n",
       "      <td>2199.1900</td>\n",
       "      <td>100.6050</td>\n",
       "      <td>1514.370</td>\n",
       "      <td>5900.0</td>\n",
       "      <td>20.87</td>\n",
       "      <td>60.1</td>\n",
       "      <td>5.861</td>\n",
       "      <td>3530.0</td>\n",
       "      <td>0</td>\n",
       "      <td>0</td>\n",
       "    </tr>\n",
       "    <tr>\n",
       "      <th>4</th>\n",
       "      <td>Antigua and Barbuda</td>\n",
       "      <td>10.3</td>\n",
       "      <td>5551.0000</td>\n",
       "      <td>735.6600</td>\n",
       "      <td>7185.800</td>\n",
       "      <td>19100.0</td>\n",
       "      <td>1.44</td>\n",
       "      <td>76.8</td>\n",
       "      <td>2.130</td>\n",
       "      <td>12200.0</td>\n",
       "      <td>2</td>\n",
       "      <td>1</td>\n",
       "    </tr>\n",
       "  </tbody>\n",
       "</table>\n",
       "</div>"
      ],
      "text/plain": [
       "               country  child_mort    exports    health   imports   income  \\\n",
       "0          Afghanistan        90.2    70.4688   41.9174   248.297   1610.0   \n",
       "1              Albania        16.6  1145.2000  267.8950  1987.740   9930.0   \n",
       "2              Algeria        27.3  1712.6400  185.9820  1400.440  12900.0   \n",
       "3               Angola       116.0  2199.1900  100.6050  1514.370   5900.0   \n",
       "4  Antigua and Barbuda        10.3  5551.0000  735.6600  7185.800  19100.0   \n",
       "\n",
       "   inflation  life_expec  total_fer     gdpp  cluster_id  cluster_id_hierar  \n",
       "0       9.44        56.2      5.820    553.0           0                  0  \n",
       "1       4.49        76.3      1.650   4090.0           2                  1  \n",
       "2      16.10        76.5      2.890   4460.0           2                  1  \n",
       "3      20.87        60.1      5.861   3530.0           0                  0  \n",
       "4       1.44        76.8      2.130  12200.0           2                  1  "
      ]
     },
     "execution_count": 341,
     "metadata": {},
     "output_type": "execute_result"
    }
   ],
   "source": [
    "# assign cluster labels\n",
    "\n",
    "country['cluster_id_hierar'] = cluster_labels\n",
    "country.head()"
   ]
  },
  {
   "cell_type": "code",
   "execution_count": 342,
   "metadata": {},
   "outputs": [
    {
     "data": {
      "text/plain": [
       "1    84\n",
       "0    43\n",
       "2    40\n",
       "Name: cluster_id_hierar, dtype: int64"
      ]
     },
     "execution_count": 342,
     "metadata": {},
     "output_type": "execute_result"
    }
   ],
   "source": [
    "# checking cluster counts\n",
    "\n",
    "country['cluster_id_hierar'] .value_counts()"
   ]
  },
  {
   "cell_type": "code",
   "execution_count": 343,
   "metadata": {},
   "outputs": [
    {
     "data": {
      "image/png": "[encoded data removed]",
      "text/plain": [
       "<Figure size 1440x576 with 3 Axes>"
      ]
     },
     "metadata": {
      "needs_background": "light"
     },
     "output_type": "display_data"
    }
   ],
   "source": [
    "# Boxplot for Hierarchical Cluster Analysis\n",
    "\n",
    "plt.figure(figsize=[20,8])\n",
    "plt.subplot(1,3,1)\n",
    "sns.boxplot(x='cluster_id_hierar',y='gdpp',data=country)\n",
    "plt.title(\"Boxplot for GDPP\")\n",
    "plt.subplot(1,3,2)\n",
    "sns.boxplot(x='cluster_id_hierar',y='child_mort',data=country)\n",
    "plt.title(\"Boxplot for Child Mortality\")\n",
    "plt.subplot(1,3,3)\n",
    "sns.boxplot(x='cluster_id_hierar',y='income',data=country)\n",
    "plt.title(\"Boxplot for Income\")\n",
    "plt.show()"
   ]
  },
  {
   "cell_type": "code",
   "execution_count": 344,
   "metadata": {},
   "outputs": [
    {
     "data": {
      "image/png": "[encoded data removed]",
      "text/plain": [
       "<Figure size 1440x576 with 3 Axes>"
      ]
     },
     "metadata": {
      "needs_background": "light"
     },
     "output_type": "display_data"
    }
   ],
   "source": [
    "# Scatter plot for Hierarchical Cluster Analysis\n",
    "\n",
    "plt.figure(figsize=[20,8])\n",
    "plt.subplot(1,3,1)\n",
    "sns.scatterplot(x='child_mort',y='gdpp',data=country,hue='cluster_id_hierar',palette='Set1')\n",
    "plt.title(\"child mortality vs gdpp\")\n",
    "plt.subplot(1,3,2)\n",
    "sns.scatterplot(x='child_mort',y='income',data=country,hue='cluster_id_hierar',palette='Set1')\n",
    "plt.title(\"child mortality vs income\")\n",
    "plt.subplot(1,3,3)\n",
    "sns.scatterplot(x='income',y='gdpp',data=country,hue='cluster_id_hierar',palette='Set1')\n",
    "plt.title(\"income vs gdpp\")\n",
    "plt.show()"
   ]
  },
  {
   "cell_type": "markdown",
   "metadata": {},
   "source": [
    "#### Analysis: Here cluster 0 has low income, low gdpp, and high child mortality rate"
   ]
  },
  {
   "cell_type": "markdown",
   "metadata": {},
   "source": [
    "## Hierarchical Cluster Profiling"
   ]
  },
  {
   "cell_type": "code",
   "execution_count": 345,
   "metadata": {},
   "outputs": [
    {
     "data": {
      "text/html": [
       "<div>\n",
       "<style scoped>\n",
       "    .dataframe tbody tr th:only-of-type {\n",
       "        vertical-align: middle;\n",
       "    }\n",
       "\n",
       "    .dataframe tbody tr th {\n",
       "        vertical-align: top;\n",
       "    }\n",
       "\n",
       "    .dataframe thead th {\n",
       "        text-align: right;\n",
       "    }\n",
       "</style>\n",
       "<table border=\"1\" class=\"dataframe\">\n",
       "  <thead>\n",
       "    <tr style=\"text-align: right;\">\n",
       "      <th></th>\n",
       "      <th>country</th>\n",
       "      <th>child_mort</th>\n",
       "      <th>exports</th>\n",
       "      <th>health</th>\n",
       "      <th>imports</th>\n",
       "      <th>income</th>\n",
       "      <th>inflation</th>\n",
       "      <th>life_expec</th>\n",
       "      <th>total_fer</th>\n",
       "      <th>gdpp</th>\n",
       "      <th>cluster_id</th>\n",
       "      <th>cluster_id_hierar</th>\n",
       "    </tr>\n",
       "  </thead>\n",
       "  <tbody>\n",
       "    <tr>\n",
       "      <th>31</th>\n",
       "      <td>Central African Republic</td>\n",
       "      <td>116.0</td>\n",
       "      <td>70.4688</td>\n",
       "      <td>26.71592</td>\n",
       "      <td>169.281</td>\n",
       "      <td>1213.0</td>\n",
       "      <td>2.01</td>\n",
       "      <td>55.78</td>\n",
       "      <td>5.210</td>\n",
       "      <td>465.9</td>\n",
       "      <td>0</td>\n",
       "      <td>0</td>\n",
       "    </tr>\n",
       "    <tr>\n",
       "      <th>37</th>\n",
       "      <td>Congo, Dem. Rep.</td>\n",
       "      <td>116.0</td>\n",
       "      <td>137.2740</td>\n",
       "      <td>26.71592</td>\n",
       "      <td>169.281</td>\n",
       "      <td>1213.0</td>\n",
       "      <td>20.80</td>\n",
       "      <td>57.50</td>\n",
       "      <td>5.861</td>\n",
       "      <td>465.9</td>\n",
       "      <td>0</td>\n",
       "      <td>0</td>\n",
       "    </tr>\n",
       "    <tr>\n",
       "      <th>112</th>\n",
       "      <td>Niger</td>\n",
       "      <td>116.0</td>\n",
       "      <td>77.2560</td>\n",
       "      <td>26.71592</td>\n",
       "      <td>170.868</td>\n",
       "      <td>1213.0</td>\n",
       "      <td>2.55</td>\n",
       "      <td>58.80</td>\n",
       "      <td>5.861</td>\n",
       "      <td>465.9</td>\n",
       "      <td>0</td>\n",
       "      <td>0</td>\n",
       "    </tr>\n",
       "    <tr>\n",
       "      <th>106</th>\n",
       "      <td>Mozambique</td>\n",
       "      <td>101.0</td>\n",
       "      <td>131.9850</td>\n",
       "      <td>26.71592</td>\n",
       "      <td>193.578</td>\n",
       "      <td>1213.0</td>\n",
       "      <td>7.64</td>\n",
       "      <td>55.78</td>\n",
       "      <td>5.560</td>\n",
       "      <td>465.9</td>\n",
       "      <td>0</td>\n",
       "      <td>0</td>\n",
       "    </tr>\n",
       "    <tr>\n",
       "      <th>26</th>\n",
       "      <td>Burundi</td>\n",
       "      <td>93.6</td>\n",
       "      <td>70.4688</td>\n",
       "      <td>26.79600</td>\n",
       "      <td>169.281</td>\n",
       "      <td>1213.0</td>\n",
       "      <td>12.30</td>\n",
       "      <td>57.70</td>\n",
       "      <td>5.861</td>\n",
       "      <td>465.9</td>\n",
       "      <td>0</td>\n",
       "      <td>0</td>\n",
       "    </tr>\n",
       "  </tbody>\n",
       "</table>\n",
       "</div>"
      ],
      "text/plain": [
       "                      country  child_mort   exports    health  imports  \\\n",
       "31   Central African Republic       116.0   70.4688  26.71592  169.281   \n",
       "37           Congo, Dem. Rep.       116.0  137.2740  26.71592  169.281   \n",
       "112                     Niger       116.0   77.2560  26.71592  170.868   \n",
       "106                Mozambique       101.0  131.9850  26.71592  193.578   \n",
       "26                    Burundi        93.6   70.4688  26.79600  169.281   \n",
       "\n",
       "     income  inflation  life_expec  total_fer   gdpp  cluster_id  \\\n",
       "31   1213.0       2.01       55.78      5.210  465.9           0   \n",
       "37   1213.0      20.80       57.50      5.861  465.9           0   \n",
       "112  1213.0       2.55       58.80      5.861  465.9           0   \n",
       "106  1213.0       7.64       55.78      5.560  465.9           0   \n",
       "26   1213.0      12.30       57.70      5.861  465.9           0   \n",
       "\n",
       "     cluster_id_hierar  \n",
       "31                   0  \n",
       "37                   0  \n",
       "112                  0  \n",
       "106                  0  \n",
       "26                   0  "
      ]
     },
     "execution_count": 345,
     "metadata": {},
     "output_type": "execute_result"
    }
   ],
   "source": [
    "hier_final_df = country[country['cluster_id_hierar']==0].sort_values(by=['gdpp', 'income', 'child_mort'], ascending= [True, True, False])\n",
    "hier_final_df.head()"
   ]
  },
  {
   "cell_type": "code",
   "execution_count": 346,
   "metadata": {},
   "outputs": [
    {
     "data": {
      "text/plain": [
       "(43, 12)"
      ]
     },
     "execution_count": 346,
     "metadata": {},
     "output_type": "execute_result"
    }
   ],
   "source": [
    "hier_final_df.shape"
   ]
  },
  {
   "cell_type": "code",
   "execution_count": 347,
   "metadata": {},
   "outputs": [
    {
     "data": {
      "text/plain": [
       "['Central African Republic',\n",
       " 'Congo, Dem. Rep.',\n",
       " 'Niger',\n",
       " 'Mozambique',\n",
       " 'Burundi',\n",
       " 'Malawi',\n",
       " 'Liberia',\n",
       " 'Sierra Leone',\n",
       " 'Madagascar',\n",
       " 'Eritrea']"
      ]
     },
     "execution_count": 347,
     "metadata": {},
     "output_type": "execute_result"
    }
   ],
   "source": [
    "# Top 10 countries which are in direst need of help\n",
    "# Final list of countries\n",
    "\n",
    "list(hier_final_df['country'].head(10).values)"
   ]
  },
  {
   "cell_type": "code",
   "execution_count": null,
   "metadata": {},
   "outputs": [],
   "source": []
  }
 ],
 "metadata": {
  "kernelspec": {
   "display_name": "Python 3",
   "language": "python",
   "name": "python3"
  },
  "language_info": {
   "codemirror_mode": {
    "name": "ipython",
    "version": 3
   },
   "file_extension": ".py",
   "mimetype": "text/x-python",
   "name": "python",
   "nbconvert_exporter": "python",
   "pygments_lexer": "ipython3",
   "version": "3.8.3"
  }
 },
 "nbformat": 4,
 "nbformat_minor": 4
}
